{
  "nbformat": 4,
  "nbformat_minor": 0,
  "metadata": {
    "colab": {
      "provenance": [],
      "authorship_tag": "ABX9TyOiCIPo0SpiB3+oN3CAT93T",
      "include_colab_link": true
    },
    "kernelspec": {
      "name": "python3",
      "display_name": "Python 3"
    },
    "language_info": {
      "name": "python"
    }
  },
  "cells": [
    {
      "cell_type": "markdown",
      "metadata": {
        "id": "view-in-github",
        "colab_type": "text"
      },
      "source": [
        "<a href=\"https://colab.research.google.com/github/dlcksgh1/hg-MachineLearningDeepLearning/blob/main/chapter03.ipynb\" target=\"_parent\"><img src=\"https://colab.research.google.com/assets/colab-badge.svg\" alt=\"Open In Colab\"/></a>"
      ]
    },
    {
      "cell_type": "markdown",
      "source": [
        "## [혼자공부하는 머신러닝 + 딥러닝] 정리 Chapter 03 회귀 알고리즘과 모델 규제"
      ],
      "metadata": {
        "id": "GG8cf-Ah_OhC"
      }
    },
    {
      "cell_type": "markdown",
      "source": [
        "#### k-최근접 이웃 회귀 알고리즘  :예측하려는 샘플에 가장 가까운 샘플  k 개를 선택 하여 수치들의 평균 값을 구하는 것"
      ],
      "metadata": {
        "id": "hagqmWgO_dUJ"
      }
    },
    {
      "cell_type": "code",
      "execution_count": 3,
      "metadata": {
        "colab": {
          "base_uri": "https://localhost:8080/",
          "height": 449
        },
        "id": "Wc4aO-Agunlq",
        "outputId": "187028c8-340f-41a4-e04a-52ba371b2481"
      },
      "outputs": [
        {
          "output_type": "display_data",
          "data": {
            "text/plain": [
              "<Figure size 640x480 with 1 Axes>"
            ],
            "image/png": "[encoded data removed]"
          },
          "metadata": {}
        }
      ],
      "source": [
        "import numpy as np\n",
        "\n",
        "perch_length = np.array([8.4, 13.7, 15.0, 16.2, 17.4, 18.0, 18.7, 19.0, 19.6, 20.0, 21.0,\n",
        "       21.0, 21.0, 21.3, 22.0, 22.0, 22.0, 22.0, 22.0, 22.5, 22.5, 22.7,\n",
        "       23.0, 23.5, 24.0, 24.0, 24.6, 25.0, 25.6, 26.5, 27.3, 27.5, 27.5,\n",
        "       27.5, 28.0, 28.7, 30.0, 32.8, 34.5, 35.0, 36.5, 36.0, 37.0, 37.0,\n",
        "       39.0, 39.0, 39.0, 40.0, 40.0, 40.0, 40.0, 42.0, 43.0, 43.0, 43.5,\n",
        "       44.0])\n",
        "perch_weight = np.array([5.9, 32.0, 40.0, 51.5, 70.0, 100.0, 78.0, 80.0, 85.0, 85.0, 110.0,\n",
        "       115.0, 125.0, 130.0, 120.0, 120.0, 130.0, 135.0, 110.0, 130.0,\n",
        "       150.0, 145.0, 150.0, 170.0, 225.0, 145.0, 188.0, 180.0, 197.0,\n",
        "       218.0, 300.0, 260.0, 265.0, 250.0, 250.0, 300.0, 320.0, 514.0,\n",
        "       556.0, 840.0, 685.0, 700.0, 700.0, 690.0, 900.0, 650.0, 820.0,\n",
        "       850.0, 900.0, 1015.0, 820.0, 1100.0, 1000.0, 1100.0, 1000.0,\n",
        "       1000.0])\n",
        "\n",
        "# 산점도 그리기\n",
        "import matplotlib.pyplot as plt\n",
        "\n",
        "plt.scatter(perch_length, perch_weight)\n",
        "plt.xlabel('length')\n",
        "plt.ylabel('weight')\n",
        "\n",
        "plt.show()\n"
      ]
    },
    {
      "cell_type": "code",
      "source": [
        "# 훈련세트와 테스트세트 나누기\n",
        "\n",
        "from sklearn.model_selection import train_test_split\n",
        "\n",
        "train_input, test_input, train_target, test_target = train_test_split(perch_length ,perch_weight, random_state=42)\n",
        "\n",
        "# 사이킷런에 사용할 훈련 세트 2차원 배열이여야 한다.\n",
        "\n",
        "train_input = train_input.reshape(-1, 1) # reshape 사용하여 2차원 배열로 변경\n",
        "test_input = test_input.reshape(-1, 1)\n",
        "print(train_input.shape, test_input.shape)\n"
      ],
      "metadata": {
        "colab": {
          "base_uri": "https://localhost:8080/"
        },
        "id": "v7L0mVNqGWTl",
        "outputId": "869980ad-048f-423b-f7dd-89dcddab222c"
      },
      "execution_count": 10,
      "outputs": [
        {
          "output_type": "stream",
          "name": "stdout",
          "text": [
            "(42, 1) (14, 1)\n"
          ]
        }
      ]
    },
    {
      "cell_type": "code",
      "source": [
        "from sklearn.utils.fixes import sklearn\n",
        "# k-최근접 이웃 회귀 알고리즘 훈련\n",
        "\n",
        "from sklearn.neighbors import KNeighborsRegressor\n",
        "\n",
        "knr = KNeighborsRegressor()\n",
        "\n",
        "knr.fit(train_input, train_target)\n",
        "\n",
        "knr.score(test_input, test_target)\n",
        "\n"
      ],
      "metadata": {
        "colab": {
          "base_uri": "https://localhost:8080/"
        },
        "id": "IgRozAx1IZXa",
        "outputId": "30b8e4bc-eda3-4091-c857-a59574085a4e"
      },
      "execution_count": 13,
      "outputs": [
        {
          "output_type": "execute_result",
          "data": {
            "text/plain": [
              "0.992809406101064"
            ]
          },
          "metadata": {},
          "execution_count": 13
        }
      ]
    },
    {
      "cell_type": "code",
      "source": [
        "# 타겟과 예측의 절대값 오차를 평균하여 반환\n",
        "\n",
        "from sklearn.metrics import mean_absolute_error\n",
        "\n",
        "#테스트 세트에 대한 예측을 만든다\n",
        "test_prediction = knr.predict(test_input)\n",
        "\n",
        "mae = mean_absolute_error(test_target, test_prediction)\n",
        "\n",
        "print(mae)\n",
        "\n",
        "\n"
      ],
      "metadata": {
        "colab": {
          "base_uri": "https://localhost:8080/"
        },
        "id": "7_yVWfvWK4YU",
        "outputId": "0daf929b-6d9a-4a27-93c2-a6aff913e2d1"
      },
      "execution_count": 14,
      "outputs": [
        {
          "output_type": "stream",
          "name": "stdout",
          "text": [
            "19.157142857142862\n"
          ]
        }
      ]
    },
    {
      "cell_type": "code",
      "source": [
        "# 훈련 세트와 테스트 세트의 점수를 비교해보자\n",
        "\n",
        "print(knr.score(train_input, train_target))\n",
        "\n",
        "print(knr.score(test_input, test_target))\n",
        "\n",
        "# 테스트 세트의 점수가 더 높기 때문에 과소적합이다."
      ],
      "metadata": {
        "colab": {
          "base_uri": "https://localhost:8080/"
        },
        "id": "6cb3N4UKMKYH",
        "outputId": "3eed969a-2ccc-43d0-fd5f-c9cba6df5d7a"
      },
      "execution_count": 18,
      "outputs": [
        {
          "output_type": "stream",
          "name": "stdout",
          "text": [
            "0.9698823289099254\n",
            "0.992809406101064\n"
          ]
        }
      ]
    },
    {
      "cell_type": "code",
      "source": [
        "# 과소적합 문제를 해결하려면 모델을 조금 더 복잡하게 만들면 된다.\n",
        "# k_최근접 이웃 알고리즘을 더 복잡하게 만드는 방법은 이웃의 개수 k 를 줄이면 된다. 기본값인 5 에서 3으로 변경\n",
        "\n",
        "knr.n_neighbors = 3\n",
        "knr.fit(train_input, train_target)\n",
        "\n",
        "\n",
        "print(knr.score(train_input, train_target))\n",
        "\n",
        "print(knr.score(test_input, test_target))"
      ],
      "metadata": {
        "colab": {
          "base_uri": "https://localhost:8080/"
        },
        "id": "LQFtYSI0NPQD",
        "outputId": "b79fc7b8-3ff3-420c-fdb9-dcf186403777"
      },
      "execution_count": 19,
      "outputs": [
        {
          "output_type": "stream",
          "name": "stdout",
          "text": [
            "0.9804899950518966\n",
            "0.9746459963987609\n"
          ]
        }
      ]
    },
    {
      "cell_type": "markdown",
      "source": [
        "### k-최근접 이웃의 한계"
      ],
      "metadata": {
        "id": "xBmvrYAGOhFG"
      }
    },
    {
      "cell_type": "code",
      "source": [
        "import numpy as np\n",
        "\n",
        "perch_length = np.array([8.4, 13.7, 15.0, 16.2, 17.4, 18.0, 18.7, 19.0, 19.6, 20.0, 21.0,\n",
        "       21.0, 21.0, 21.3, 22.0, 22.0, 22.0, 22.0, 22.0, 22.5, 22.5, 22.7,\n",
        "       23.0, 23.5, 24.0, 24.0, 24.6, 25.0, 25.6, 26.5, 27.3, 27.5, 27.5,\n",
        "       27.5, 28.0, 28.7, 30.0, 32.8, 34.5, 35.0, 36.5, 36.0, 37.0, 37.0,\n",
        "       39.0, 39.0, 39.0, 40.0, 40.0, 40.0, 40.0, 42.0, 43.0, 43.0, 43.5,\n",
        "       44.0])\n",
        "perch_weight = np.array([5.9, 32.0, 40.0, 51.5, 70.0, 100.0, 78.0, 80.0, 85.0, 85.0, 110.0,\n",
        "       115.0, 125.0, 130.0, 120.0, 120.0, 130.0, 135.0, 110.0, 130.0,\n",
        "       150.0, 145.0, 150.0, 170.0, 225.0, 145.0, 188.0, 180.0, 197.0,\n",
        "       218.0, 300.0, 260.0, 265.0, 250.0, 250.0, 300.0, 320.0, 514.0,\n",
        "       556.0, 840.0, 685.0, 700.0, 700.0, 690.0, 900.0, 650.0, 820.0,\n",
        "       850.0, 900.0, 1015.0, 820.0, 1100.0, 1000.0, 1100.0, 1000.0,\n",
        "       1000.0])\n",
        "\n",
        "\n",
        "# 훈련세트와 테스트세트 나누기\n",
        "\n",
        "from sklearn.model_selection import train_test_split\n",
        "\n",
        "train_input, test_input, train_target, test_target = train_test_split(perch_length ,perch_weight, random_state=42)\n",
        "\n",
        "# 사이킷런에 사용할 훈련 세트 2차원 배열이여야 한다.\n",
        "\n",
        "train_input = train_input.reshape(-1, 1) # reshape 사용하여 2차원 배열로 변경\n",
        "test_input = test_input.reshape(-1, 1)\n",
        "\n",
        "from sklearn.neighbors import KNeighborsRegressor\n",
        "\n",
        "knr = KNeighborsRegressor(n_neighbors=3)\n",
        "\n",
        "knr.fit(train_input, train_target)\n",
        "\n",
        "print(knr.predict([[50]])) #길이기 50cm 인 농어의 무게를 1033g 으로 예측했지만 실제로는 더 무겁다."
      ],
      "metadata": {
        "colab": {
          "base_uri": "https://localhost:8080/"
        },
        "id": "gk584-I5OfWc",
        "outputId": "7218c683-7d7b-4b72-9e0d-760fbd65644d"
      },
      "execution_count": 3,
      "outputs": [
        {
          "output_type": "stream",
          "name": "stdout",
          "text": [
            "[1033.33333333]\n"
          ]
        }
      ]
    },
    {
      "cell_type": "markdown",
      "source": [
        "실제 무게와 많이 차이가 나기때문에 가장 가까운 이웃까지의 거리를 구해보자"
      ],
      "metadata": {
        "id": "qbc6ZQMuPvx4"
      }
    },
    {
      "cell_type": "code",
      "source": [
        "from tables import indexes\n",
        "import matplotlib.pyplot as plt\n",
        "\n",
        "# 50cm 농어의 이웃을 구한다.\n",
        "distances, indexes = knr.kneighbors([[50]])\n",
        "\n",
        "# 훈련 세트이 산점도를 그린다\n",
        "plt.scatter(train_input, train_target)\n",
        "\n",
        "#이웃 샘플 다시 그리기\n",
        "plt.scatter(train_input[indexes], train_target[indexes], marker='D')\n",
        "\n",
        "#50cm 농어 데이터 그리기\n",
        "\n",
        "plt.scatter(50, 1033, marker='^')\n",
        "\n",
        "plt.xlabel('length')\n",
        "plt.ylabel('weigth')\n",
        "plt.show()"
      ],
      "metadata": {
        "colab": {
          "base_uri": "https://localhost:8080/",
          "height": 449
        },
        "id": "kjeVD8RcQBI8",
        "outputId": "cdf70902-464f-4762-c07f-80b4a3c5a96d"
      },
      "execution_count": 21,
      "outputs": [
        {
          "output_type": "display_data",
          "data": {
            "text/plain": [
              "<Figure size 640x480 with 1 Axes>"
            ],
            "image/png": "[encoded data removed]"
          },
          "metadata": {}
        }
      ]
    },
    {
      "cell_type": "markdown",
      "source": [
        "가장 가까운 농어의 데이터가 45cm 근방이기 때문에 평균값이 낮아서 문제가 발생 했던 것"
      ],
      "metadata": {
        "id": "MqJGUEEZRKF5"
      }
    },
    {
      "cell_type": "code",
      "source": [
        "print(np.mean(train_target[indexes]))\n"
      ],
      "metadata": {
        "colab": {
          "base_uri": "https://localhost:8080/"
        },
        "id": "v9gxXui-RV1c",
        "outputId": "28b35b9a-3ed6-47b8-c98e-21869df2a858"
      },
      "execution_count": 22,
      "outputs": [
        {
          "output_type": "stream",
          "name": "stdout",
          "text": [
            "1033.3333333333333\n"
          ]
        }
      ]
    },
    {
      "cell_type": "markdown",
      "source": [
        "### k-최근접 이웃 말고 다른 알고리즘을 알아보자"
      ],
      "metadata": {
        "id": "_-YXQ6QGSMFB"
      }
    },
    {
      "cell_type": "markdown",
      "source": [
        "#### 선형회귀(linear regression)\n",
        "널리 사용되는 대표적인 회귀 알고리즘. 비교적 간단하고 성능이 뛰어남 직선을 학습하는 알고리즘"
      ],
      "metadata": {
        "id": "VbZmUQvnSTnK"
      }
    },
    {
      "cell_type": "code",
      "source": [
        "from sklearn.linear_model import LinearRegression\n",
        "\n",
        "lr = LinearRegression()\n",
        "\n",
        "# 선형 회귀 알고리즘 훈련\n",
        "lr.fit(train_input, train_target)\n",
        "\n",
        "# 50cm 농어에 대하여 예측\n",
        "print(lr.predict([[50]]))"
      ],
      "metadata": {
        "colab": {
          "base_uri": "https://localhost:8080/"
        },
        "id": "BD5Cj_IgSSvJ",
        "outputId": "11ed7c76-b18d-489e-a3b4-540a7330f473"
      },
      "execution_count": 4,
      "outputs": [
        {
          "output_type": "stream",
          "name": "stdout",
          "text": [
            "[1241.83860323]\n"
          ]
        }
      ]
    },
    {
      "cell_type": "code",
      "source": [
        "\n",
        "# y = ax + b 의 직선 그래프 에서 a ,b 를 찾아야하는데 그 값을 LinearRegression 클래스가 찾아준다\n",
        "# 찾은 a, b 는 coef_ 와 intercept_ 속성에 저장되어 있다.\n",
        "\n",
        "print(lr.coef_, lr.intercept_)"
      ],
      "metadata": {
        "colab": {
          "base_uri": "https://localhost:8080/"
        },
        "id": "C3JWphlCSSW7",
        "outputId": "96252155-e239-430a-d407-5ef42be439a1"
      },
      "execution_count": 5,
      "outputs": [
        {
          "output_type": "stream",
          "name": "stdout",
          "text": [
            "[39.01714496] -709.0186449535477\n"
          ]
        }
      ]
    },
    {
      "cell_type": "markdown",
      "source": [
        "coef_, .intercept_ 를 머신러닝 알고리즘이 찾은 값이라는 의미로 모델 파라메터 라고 부른다.\n",
        "\n",
        "머신 러닝의 알고리즘은 훈련 과정에서 최적의 모델 파라메터를 찾는 것과 같습니다.\n",
        "\n",
        "선형회귀 : 모델기반 학습\n",
        "\n",
        "k-최근접 이웃 : 사례 기반 학습"
      ],
      "metadata": {
        "id": "TeqRr-y5UmY9"
      }
    },
    {
      "cell_type": "code",
      "source": [
        "# 훈련 세트의 산점도와 15~50cm 의 직선을 그려보자\n",
        "\n",
        "import matplotlib.pyplot as plt\n",
        "plt.scatter(train_input,train_target)\n",
        "\n",
        "plt.plot([15, 50],[15*lr.coef_+lr.intercept_, 50*lr.coef_+lr.intercept_])\n",
        "\n",
        "plt.scatter(50, 1241.8, marker='^')\n",
        "plt.xlabel('length')\n",
        "plt.ylabel('weigth')\n",
        "plt.show()"
      ],
      "metadata": {
        "colab": {
          "base_uri": "https://localhost:8080/",
          "height": 449
        },
        "id": "Xr3LjnccVO3u",
        "outputId": "92abd3ba-c6a3-4d93-ba78-79894703ab6c"
      },
      "execution_count": 6,
      "outputs": [
        {
          "output_type": "display_data",
          "data": {
            "text/plain": [
              "<Figure size 640x480 with 1 Axes>"
            ],
            "image/png": "[encoded data removed]"
          },
          "metadata": {}
        }
      ]
    },
    {
      "cell_type": "markdown",
      "source": [
        "#### 이제 훈련 세트 번위를 벗어난 농어의 무게도 예측 가능하다."
      ],
      "metadata": {
        "id": "084-B6SdWYRD"
      }
    },
    {
      "cell_type": "code",
      "source": [
        "print(lr.score(train_input,train_target))\n",
        "print(lr.score(test_input,test_target))\n"
      ],
      "metadata": {
        "colab": {
          "base_uri": "https://localhost:8080/"
        },
        "id": "KDA8N8qTWXxy",
        "outputId": "1bd92fd2-46c5-400d-dc46-f7a21800f2bf"
      },
      "execution_count": 8,
      "outputs": [
        {
          "output_type": "stream",
          "name": "stdout",
          "text": [
            "0.939846333997604\n",
            "0.8247503123313558\n"
          ]
        }
      ]
    },
    {
      "cell_type": "markdown",
      "source": [
        "훈련 세트, 테스트 세트 둘다 점수가 높지 않다. 전체적으로 과소적합 되어있음을 확인\n",
        "\n",
        "#### 현실적으로 무게가 0이하로 내려갈 수 없고, 전체 데이터를 보면 직선이 아닌 곡선에 가깝다.\n",
        "\n",
        "### 최적의 곡선을 찾아보자(다항 회귀)"
      ],
      "metadata": {
        "id": "xZR7ra8bW3bV"
      }
    },
    {
      "cell_type": "code",
      "source": [
        "# 2차원 방정식의 그래프를 그리려면 갈아를 제곱한 항이 훈련 세트에 추가되어야 한다.\n",
        "\n",
        "train_ploy = np.column_stack((train_input**2, train_input))\n",
        "test_ploy = np.column_stack((test_input**2, test_input))\n",
        "\n",
        "print(train_ploy.shape, test_ploy.shape)"
      ],
      "metadata": {
        "colab": {
          "base_uri": "https://localhost:8080/"
        },
        "id": "yQUQOEk7XGEQ",
        "outputId": "8775015b-74ea-4f19-8d27-6770b1d3dc70"
      },
      "execution_count": 9,
      "outputs": [
        {
          "output_type": "stream",
          "name": "stdout",
          "text": [
            "(42, 2) (14, 2)\n"
          ]
        }
      ]
    },
    {
      "cell_type": "code",
      "source": [
        "lr = LinearRegression()\n",
        "lr.fit(train_ploy, train_target)\n",
        "\n",
        "print(lr.predict([[50**2, 50]]))\n",
        "\n",
        "print(lr.coef_, lr.intercept_) # 2차 방정식의 a, b, c 값을 알수있음"
      ],
      "metadata": {
        "colab": {
          "base_uri": "https://localhost:8080/"
        },
        "id": "5YQK56EyYjCQ",
        "outputId": "6c081c1b-2fb3-4023-d218-9fe71a770028"
      },
      "execution_count": 13,
      "outputs": [
        {
          "output_type": "stream",
          "name": "stdout",
          "text": [
            "[1573.98423528]\n",
            "[  1.01433211 -21.55792498] 116.0502107827827\n"
          ]
        }
      ]
    },
    {
      "cell_type": "markdown",
      "source": [
        "### 훈련 세트의 산점도와 그래프를 그려보자"
      ],
      "metadata": {
        "id": "emu2jP_hZZmI"
      }
    },
    {
      "cell_type": "code",
      "source": [
        "point = np.arange(15, 50) # 15~49 까지의 정수의 배열을 만든다\n",
        "\n",
        "plt.scatter(train_input,train_target)\n",
        "\n",
        "plt.plot(point, 1.01 * point**2 -21.6 * point + 116.05)\n",
        "\n",
        "plt.scatter(50, 1574, marker='^')\n",
        "plt.xlabel('length')\n",
        "plt.ylabel('weigth')\n",
        "plt.show()\n",
        "\n",
        "print(lr.score(train_ploy,train_target))\n",
        "print(lr.score(test_ploy,test_target))"
      ],
      "metadata": {
        "colab": {
          "base_uri": "https://localhost:8080/",
          "height": 486
        },
        "id": "dzjD2LtrZWtf",
        "outputId": "6c0ae8e8-65e6-4f1e-a33e-5eb3c9fc85c0"
      },
      "execution_count": 16,
      "outputs": [
        {
          "output_type": "display_data",
          "data": {
            "text/plain": [
              "<Figure size 640x480 with 1 Axes>"
            ],
            "image/png": "[encoded data removed]"
          },
          "metadata": {}
        },
        {
          "output_type": "stream",
          "name": "stdout",
          "text": [
            "0.9706807451768623\n",
            "0.9775935108325122\n"
          ]
        }
      ]
    },
    {
      "cell_type": "markdown",
      "source": [
        "앞선 단순 선형 회귀 모델보다 훨신 나은 그래프가 그려졌고 아직까진 과소적합이 남아 있다 모델을 조금 더 복작한 모델이 필요하다."
      ],
      "metadata": {
        "id": "YDvm9Zruawyf"
      }
    }
  ]
}